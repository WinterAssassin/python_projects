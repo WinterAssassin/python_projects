{
 "cells": [
  {
   "cell_type": "code",
   "execution_count": 11,
   "id": "12e05dff",
   "metadata": {},
   "outputs": [],
   "source": [
    "import random\n",
    "import itertools\n",
    "import matplotlib.pyplot as plt\n",
    "from collections import Counter"
   ]
  },
  {
   "cell_type": "code",
   "execution_count": 2,
   "id": "1661d11c",
   "metadata": {},
   "outputs": [],
   "source": [
    "def random_combinations(pick, choices, times):\n",
    "    \n",
    "    if pick > choices:\n",
    "        raise ValueError(\"r must be less than or equal to n\")\n",
    "        \n",
    "    all_combinations = list(itertools.combinations(range(1, choices+1), pick))\n",
    "\n",
    "    random_combinations = []\n",
    "    \n",
    "    for _ in range(times):\n",
    "        random_comb = random.choice(all_combinations)\n",
    "        random_combinations.append(random_comb)\n",
    "        all_combinations.remove(random_comb)\n",
    "    \n",
    "    return random_combinations"
   ]
  },
  {
   "cell_type": "code",
   "execution_count": 19,
   "id": "e092a029",
   "metadata": {},
   "outputs": [
    {
     "data": {
      "text/plain": [
       "[(2, 4, 22, 46, 47, 49),\n",
       " (1, 7, 37, 41, 51, 54),\n",
       " (5, 19, 20, 31, 36, 55),\n",
       " (9, 19, 29, 38, 39, 53),\n",
       " (13, 24, 25, 34, 39, 42),\n",
       " (9, 13, 29, 35, 47, 52),\n",
       " (1, 4, 21, 25, 33, 37),\n",
       " (14, 25, 41, 47, 49, 52),\n",
       " (6, 12, 27, 29, 32, 42),\n",
       " (6, 13, 41, 45, 53, 54),\n",
       " (18, 23, 24, 25, 30, 44),\n",
       " (3, 4, 6, 11, 30, 35),\n",
       " (4, 23, 31, 36, 47, 52),\n",
       " (5, 9, 25, 32, 50, 54),\n",
       " (10, 19, 20, 28, 30, 35),\n",
       " (5, 22, 39, 41, 47, 52),\n",
       " (17, 20, 24, 27, 29, 53),\n",
       " (4, 6, 18, 22, 33, 47),\n",
       " (6, 10, 13, 36, 40, 46),\n",
       " (7, 21, 31, 35, 37, 40),\n",
       " (8, 16, 17, 32, 34, 36),\n",
       " (3, 6, 24, 26, 38, 50),\n",
       " (6, 13, 19, 23, 43, 47),\n",
       " (5, 17, 24, 31, 49, 52),\n",
       " (5, 6, 12, 15, 48, 49),\n",
       " (6, 9, 15, 35, 43, 48),\n",
       " (3, 20, 27, 47, 48, 50),\n",
       " (1, 4, 7, 21, 33, 55),\n",
       " (3, 18, 21, 23, 29, 33),\n",
       " (14, 16, 18, 36, 45, 53),\n",
       " (25, 28, 35, 38, 40, 48),\n",
       " (4, 10, 23, 30, 47, 50),\n",
       " (2, 11, 18, 29, 30, 44),\n",
       " (3, 6, 11, 12, 13, 54),\n",
       " (10, 27, 32, 35, 42, 53),\n",
       " (4, 17, 27, 32, 36, 49),\n",
       " (21, 27, 32, 43, 47, 53),\n",
       " (1, 3, 10, 16, 17, 23),\n",
       " (6, 8, 16, 24, 34, 40),\n",
       " (7, 20, 34, 38, 46, 49),\n",
       " (3, 4, 16, 18, 37, 44),\n",
       " (2, 25, 32, 39, 44, 54),\n",
       " (3, 5, 10, 12, 36, 37),\n",
       " (14, 18, 21, 22, 38, 48),\n",
       " (3, 18, 25, 27, 28, 29),\n",
       " (2, 21, 25, 36, 48, 54),\n",
       " (15, 32, 33, 41, 45, 49),\n",
       " (2, 5, 15, 22, 25, 27),\n",
       " (7, 11, 13, 20, 30, 34),\n",
       " (8, 18, 23, 28, 30, 52),\n",
       " (5, 7, 14, 15, 27, 42),\n",
       " (3, 8, 17, 30, 37, 48),\n",
       " (4, 5, 12, 13, 20, 37),\n",
       " (3, 4, 26, 31, 39, 49),\n",
       " (6, 18, 32, 35, 39, 50),\n",
       " (4, 16, 19, 21, 46, 51),\n",
       " (6, 21, 29, 32, 47, 49),\n",
       " (5, 12, 14, 20, 39, 50),\n",
       " (7, 24, 29, 39, 44, 54),\n",
       " (26, 37, 44, 45, 49, 53),\n",
       " (2, 6, 23, 25, 32, 37),\n",
       " (10, 14, 25, 30, 33, 54),\n",
       " (6, 19, 20, 27, 28, 55),\n",
       " (28, 30, 36, 39, 43, 47),\n",
       " (11, 14, 19, 39, 40, 45),\n",
       " (6, 10, 13, 14, 17, 40),\n",
       " (2, 15, 29, 32, 40, 50),\n",
       " (11, 17, 36, 40, 45, 49),\n",
       " (1, 12, 18, 40, 41, 49),\n",
       " (17, 23, 28, 34, 38, 42),\n",
       " (10, 12, 36, 43, 46, 52),\n",
       " (2, 8, 12, 20, 22, 38),\n",
       " (15, 17, 21, 23, 29, 30),\n",
       " (10, 13, 23, 30, 37, 41),\n",
       " (5, 13, 36, 42, 43, 55),\n",
       " (13, 14, 32, 44, 48, 54),\n",
       " (8, 17, 32, 38, 43, 51),\n",
       " (7, 15, 24, 26, 27, 31),\n",
       " (4, 13, 16, 17, 40, 49),\n",
       " (2, 6, 22, 40, 48, 53),\n",
       " (1, 4, 8, 9, 29, 34),\n",
       " (15, 20, 22, 25, 36, 51),\n",
       " (23, 40, 43, 44, 50, 52),\n",
       " (8, 22, 30, 32, 37, 49),\n",
       " (1, 22, 31, 35, 49, 50),\n",
       " (13, 29, 34, 40, 44, 53),\n",
       " (3, 6, 20, 32, 42, 53),\n",
       " (4, 6, 37, 39, 41, 51),\n",
       " (30, 31, 39, 42, 44, 49),\n",
       " (13, 14, 28, 29, 32, 34),\n",
       " (8, 12, 24, 33, 43, 47),\n",
       " (11, 17, 35, 48, 50, 55),\n",
       " (3, 27, 28, 36, 47, 50),\n",
       " (25, 28, 33, 38, 46, 51),\n",
       " (2, 9, 23, 36, 43, 50),\n",
       " (7, 10, 30, 43, 46, 47),\n",
       " (20, 31, 32, 39, 46, 51),\n",
       " (7, 27, 29, 39, 44, 45),\n",
       " (1, 2, 14, 17, 18, 35),\n",
       " (16, 26, 30, 42, 45, 53)]"
      ]
     },
     "execution_count": 19,
     "metadata": {},
     "output_type": "execute_result"
    }
   ],
   "source": [
    "comb_list= random_combinations(6,55, 100)\n",
    "comb_list"
   ]
  },
  {
   "cell_type": "code",
   "execution_count": 20,
   "id": "653f638b",
   "metadata": {},
   "outputs": [
    {
     "data": {
      "image/png": "[encoded data removed]",
      "text/plain": [
       "<Figure size 640x480 with 1 Axes>"
      ]
     },
     "metadata": {},
     "output_type": "display_data"
    }
   ],
   "source": [
    "flattened_data = [num for sublist in comb_list for num in sublist]\n",
    "frequency = Counter(flattened_data)\n",
    "\n",
    "# Separate numbers and frequencies\n",
    "numbers = list(frequency.keys())\n",
    "freq = list(frequency.values())\n",
    "\n",
    "# Plotting the bar chart\n",
    "plt.bar(numbers, freq)\n",
    "plt.xlabel('Numbers')\n",
    "plt.ylabel('Frequency')\n",
    "plt.title('Frequency of Numbers')\n",
    "plt.show()"
   ]
  },
  {
   "cell_type": "code",
   "execution_count": 5,
   "id": "0762f86d",
   "metadata": {},
   "outputs": [],
   "source": [
    "class CombinationGenerator:\n",
    "    \n",
    "    def __init__(self, pick, choices, times):\n",
    "        self.pick = pick\n",
    "        self.choices = choices\n",
    "        self.times = times\n",
    "    \n",
    "    def generate_combinations(self):\n",
    "    \n",
    "        if self.pick > self.choices:\n",
    "            raise ValueError(\"r must be less than or equal to n\")\n",
    "\n",
    "        all_combinations = list(itertools.combinations(range(1, self.choices+1), self.pick))\n",
    "\n",
    "        random_combinations = []\n",
    "\n",
    "        for _ in range(self.times):\n",
    "            random_comb = random.choice(all_combinations)\n",
    "            random_combinations.append(random_comb)\n",
    "            all_combinations.remove(random_comb)\n",
    "\n",
    "        return random_combinations\n",
    "\n",
    "class Gen658(CombinationGenerator):\n",
    "    \n",
    "    def __init__(self, pick=6, choices=58, times=1):\n",
    "        super().__init__(pick, choices, times)"
   ]
  },
  {
   "cell_type": "code",
   "execution_count": 8,
   "id": "2e2194ff",
   "metadata": {},
   "outputs": [
    {
     "data": {
      "text/plain": [
       "[(2, 11, 23, 29, 37, 49)]"
      ]
     },
     "execution_count": 8,
     "metadata": {},
     "output_type": "execute_result"
    }
   ],
   "source": [
    "gen658 = Gen658()\n",
    "gen658.generate_combinations()"
   ]
  }
 ],
 "metadata": {
  "kernelspec": {
   "display_name": "Python 3 (ipykernel)",
   "language": "python",
   "name": "python3"
  },
  "language_info": {
   "codemirror_mode": {
    "name": "ipython",
    "version": 3
   },
   "file_extension": ".py",
   "mimetype": "text/x-python",
   "name": "python",
   "nbconvert_exporter": "python",
   "pygments_lexer": "ipython3",
   "version": "3.11.7"
  }
 },
 "nbformat": 4,
 "nbformat_minor": 5
}
