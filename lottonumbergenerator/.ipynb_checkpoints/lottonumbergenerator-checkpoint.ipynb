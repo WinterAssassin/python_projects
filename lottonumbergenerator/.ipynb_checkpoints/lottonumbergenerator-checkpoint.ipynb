{
 "cells": [
  {
   "cell_type": "code",
   "execution_count": 1,
   "id": "12e05dff",
   "metadata": {},
   "outputs": [],
   "source": [
    "import random\n",
    "import itertools"
   ]
  },
  {
   "cell_type": "code",
   "execution_count": 2,
   "id": "1661d11c",
   "metadata": {},
   "outputs": [],
   "source": [
    "def random_combinations(pick, choices, times):\n",
    "    \n",
    "    if pick > choices:\n",
    "        raise ValueError(\"r must be less than or equal to n\")\n",
    "        \n",
    "    all_combinations = list(itertools.combinations(range(1, choices+1), pick))\n",
    "\n",
    "    random_combinations = []\n",
    "    \n",
    "    for _ in range(times):\n",
    "        random_comb = random.choice(all_combinations)\n",
    "        random_combinations.append(random_comb)\n",
    "        all_combinations.remove(random_comb)\n",
    "    \n",
    "    return random_combinations"
   ]
  },
  {
   "cell_type": "code",
   "execution_count": 3,
   "id": "e092a029",
   "metadata": {},
   "outputs": [
    {
     "data": {
      "text/plain": [
       "[(4, 11, 25, 52, 54, 58),\n",
       " (8, 19, 20, 27, 51, 56),\n",
       " (4, 11, 17, 20, 39, 52),\n",
       " (12, 29, 32, 47, 52, 54),\n",
       " (1, 17, 27, 29, 38, 48),\n",
       " (5, 7, 21, 36, 46, 53),\n",
       " (9, 16, 31, 32, 33, 56),\n",
       " (6, 21, 38, 40, 48, 54),\n",
       " (18, 19, 21, 27, 50, 53),\n",
       " (29, 35, 36, 37, 41, 54)]"
      ]
     },
     "execution_count": 3,
     "metadata": {},
     "output_type": "execute_result"
    }
   ],
   "source": [
    "random_combinations(6,58, 10)"
   ]
  },
  {
   "cell_type": "code",
   "execution_count": 43,
   "id": "0762f86d",
   "metadata": {},
   "outputs": [],
   "source": [
    "class CombinationGenerator:\n",
    "    \n",
    "    def __init__(self, pick, choices, times):\n",
    "        self.pick = pick\n",
    "        self.choices = choices\n",
    "        self.times = times\n",
    "    \n",
    "    def generate_combinations(self):\n",
    "    \n",
    "        if self.pick > self.choices:\n",
    "            raise ValueError(\"r must be less than or equal to n\")\n",
    "\n",
    "        all_combinations = list(itertools.combinations(range(1, self.choices+1), self.pick))\n",
    "\n",
    "        random_combinations = []\n",
    "\n",
    "        for _ in range(self.times):\n",
    "            random_comb = random.choice(all_combinations)\n",
    "            random_combinations.append(random_comb)\n",
    "            all_combinations.remove(random_comb)\n",
    "\n",
    "        return random_combinations\n",
    "\n",
    "class Gen658(CombinationGenerator):\n",
    "    \n",
    "    def __init__(self, pick=6, choices=58, times=1):\n",
    "        super().__init__(pick, choices, times)"
   ]
  },
  {
   "cell_type": "code",
   "execution_count": 41,
   "id": "2e2194ff",
   "metadata": {},
   "outputs": [
    {
     "data": {
      "text/plain": [
       "[(6, 19, 20, 24, 39, 56),\n",
       " (16, 17, 21, 34, 40, 56),\n",
       " (3, 26, 42, 47, 54, 56),\n",
       " (3, 6, 14, 34, 44, 49),\n",
       " (8, 10, 16, 27, 34, 46),\n",
       " (6, 26, 31, 34, 40, 43),\n",
       " (3, 10, 18, 37, 56, 57),\n",
       " (5, 8, 17, 20, 32, 56),\n",
       " (9, 26, 27, 44, 52, 54),\n",
       " (19, 29, 34, 49, 54, 58)]"
      ]
     },
     "execution_count": 41,
     "metadata": {},
     "output_type": "execute_result"
    }
   ],
   "source": [
    "gen658 = Gen658(times=10)\n",
    "gen658.generate_combinations()"
   ]
  }
 ],
 "metadata": {
  "kernelspec": {
   "display_name": "Python 3 (ipykernel)",
   "language": "python",
   "name": "python3"
  },
  "language_info": {
   "codemirror_mode": {
    "name": "ipython",
    "version": 3
   },
   "file_extension": ".py",
   "mimetype": "text/x-python",
   "name": "python",
   "nbconvert_exporter": "python",
   "pygments_lexer": "ipython3",
   "version": "3.11.7"
  }
 },
 "nbformat": 4,
 "nbformat_minor": 5
}
