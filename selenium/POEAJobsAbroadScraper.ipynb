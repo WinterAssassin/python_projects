{
 "cells": [
  {
   "cell_type": "code",
   "execution_count": 8,
   "id": "a8c6caac",
   "metadata": {},
   "outputs": [],
   "source": [
    "from selenium import webdriver\n",
    "from selenium.webdriver.common.by import By\n",
    "from selenium.webdriver.common.keys import Keys\n",
    "from selenium.webdriver.chrome.options import Options\n",
    "import time"
   ]
  },
  {
   "cell_type": "code",
   "execution_count": 27,
   "id": "cd60ed45",
   "metadata": {},
   "outputs": [],
   "source": [
    "chrome_options = Options()\n",
    "\n",
    "chrome_options.add_argument(\"--disable-javascript\")\n",
    "\n",
    "driver = webdriver.Chrome(options=chrome_options)\n",
    "\n",
    "driver.get(\"https://poeajobs.ph/jobs/\")\n",
    "\n",
    "driver.implicitly_wait(5)\n",
    "\n",
    "cookies = driver.find_element(By.XPATH, '/html/body/div[3]/div/div/div/div[2]/button[3]')\n",
    "\n",
    "cookies.click()\n",
    "\n",
    "category = driver.find_element(By.XPATH, '//*[@id=\"65d5a7aa1b448_form\"]/div[2]/div/span/div/button')\n",
    "category.click()\n",
    "\n",
    "# categories = \n",
    "\n",
    "time.sleep(2)\n",
    "\n",
    "# job_categories = driver.find_elements(By.CLASS_NAME, 'col-lg-4 col-md-4 col-sm-4 col-xs-12')\n",
    "# for _ in job_categories:\n",
    "#     print(_)\n"
   ]
  }
 ],
 "metadata": {
  "kernelspec": {
   "display_name": "Python 3 (ipykernel)",
   "language": "python",
   "name": "python3"
  },
  "language_info": {
   "codemirror_mode": {
    "name": "ipython",
    "version": 3
   },
   "file_extension": ".py",
   "mimetype": "text/x-python",
   "name": "python",
   "nbconvert_exporter": "python",
   "pygments_lexer": "ipython3",
   "version": "3.11.7"
  }
 },
 "nbformat": 4,
 "nbformat_minor": 5
}
